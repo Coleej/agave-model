{
 "cells": [
  {
   "cell_type": "code",
   "execution_count": 1,
   "metadata": {},
   "outputs": [
    {
     "name": "stdout",
     "output_type": "stream",
     "text": [
      "Password or secret: MACHINE_PASSWD\n",
      "········\n",
      "Writing file `MACHINE_PASSWD.txt'\n",
      "Password or secret: AGAVE_PASSWD\n",
      "Reading file `AGAVE_PASSWD.txt'\n",
      "Password or secret: PBTOK\n",
      "Reading file `PBTOK.txt'\n"
     ]
    },
    {
     "data": {
      "application/vnd.jupyter.widget-view+json": {
       "model_id": "5df975f4465f43f8bd9622303445ceb9",
       "version_major": 2,
       "version_minor": 0
      },
      "text/plain": [
       "Box(children=(Box(children=(Label(value='Agave username', layout=Layout(width='120px')), Text(value='')), layo…"
      ]
     },
     "metadata": {},
     "output_type": "display_data"
    },
    {
     "name": "stdout",
     "output_type": "stream",
     "text": [
      "AGAVE_USERNAME=syuan\n",
      "MACHINE_USERNAME=syuan\n",
      "BASE_APP_NAME=swan\n",
      "PORT=22\n",
      "ALLOCATION=hpc_tutorials\n",
      "WORK_DIR=/work/syuan\n",
      "HOME_DIR=/home/syuan\n",
      "SCRATCH_DIR=/work/syuan\n",
      "DEPLOYMENT_PATH=agave-deployment\n",
      "AGAVE_JSON_PARSER=jq\n",
      "PATH=/home/jupuser/agave-model/cli/bin:/usr/local/bin:/usr/local/sbin:/usr/local/bin:/usr/sbin:/usr/bin:/sbin:/bin\n",
      "Password or secret: MACHINE_PASSWD\n",
      "Reading file `MACHINE_PASSWD.txt'\n",
      "Password or secret: AGAVE_PASSWD\n",
      "Reading file `AGAVE_PASSWD.txt'\n",
      "Password or secret: PBTOK\n",
      "Reading file `PBTOK.txt'\n",
      "APP_NAME=swan-shelob-syuan\n",
      "cmd: git clone https://bitbucket.org/agaveapi/cli.git\n",
      "cmd: tenants-init -t agave.prod\n",
      "cmd: auth-tokens-refresh\n",
      "STORAGE_MACHINE=shelob-storage-syuan3\n",
      "Writing file `shelob-storage-syuan3.txt'\n",
      "cmd: systems-addupdate -F shelob-storage-syuan3.txt\n",
      "MAX_TIME=72:00:00\n",
      "CPUINFO=Architecture:          x86_64\n",
      "CPU op-mode(s):        32-bit, 64-bit\n",
      "Byte Order:            Little Endian\n",
      "CPU(s):                16\n",
      "On-line CPU(s) list:   0-15\n",
      "Thread(s) per core:    1\n",
      "Core(s) per socket:    8\n",
      "Socket(s):             2\n",
      "NUMA node(s):          2\n",
      "Vendor ID:             GenuineIntel\n",
      "CPU family:            6\n",
      "Model:                 45\n",
      "Model name:            Intel(R) Xeon(R) CPU E5-2670 0 @ 2.60GHz\n",
      "Stepping:              7\n",
      "CPU MHz:               1200.000\n",
      "BogoMIPS:              5199.34\n",
      "Virtualization:        VT-x\n",
      "L1d cache:             32K\n",
      "L1i cache:             32K\n",
      "L2 cache:              256K\n",
      "L3 cache:              20480K\n",
      "NUMA node0 CPU(s):     0-7\n",
      "NUMA node1 CPU(s):     8-15\n",
      "QUEUE=checkpt\n",
      "NODES=42\n",
      "PROCS=16\n",
      "EXEC_MACHINE=shelob-exec-syuan\n",
      "Writing file `shelob-exec-syuan.txt'\n",
      "cmd: systems-addupdate -F shelob-exec-syuan.txt\n",
      "Writing file `swan-wrapper.txt'\n",
      "cmd: files-mkdir -S shelob-storage-syuan3 -N agave-deployment\n",
      "cmd: files-upload -F swan-wrapper.txt -S shelob-storage-syuan3 agave-deployment/\n",
      "Writing file `test.txt'\n",
      "cmd: files-mkdir -S shelob-storage-syuan3 -N agave-deployment\n",
      "cmd: files-upload -F test.txt -S shelob-storage-syuan3 agave-deployment/\n",
      "Writing file `swan-shelob-syuan.txt'\n",
      "cmd: apps-addupdate -F swan-shelob-syuan.txt\n",
      "Writing file `input.txt'\n",
      "cmd: files-upload -F input.txt -S shelob-storage-syuan3/\n",
      "EMAIL=ms.ysboss@gmail.com\n"
     ]
    }
   ],
   "source": [
    "import configuration"
   ]
  },
  {
   "cell_type": "code",
   "execution_count": null,
   "metadata": {},
   "outputs": [],
   "source": []
  }
 ],
 "metadata": {
  "kernelspec": {
   "display_name": "Python 3",
   "language": "python",
   "name": "python3"
  },
  "language_info": {
   "codemirror_mode": {
    "name": "ipython",
    "version": 3
   },
   "file_extension": ".py",
   "mimetype": "text/x-python",
   "name": "python",
   "nbconvert_exporter": "python",
   "pygments_lexer": "ipython3",
   "version": "3.6.5"
  }
 },
 "nbformat": 4,
 "nbformat_minor": 2
}
