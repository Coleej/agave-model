{
 "cells": [
  {
   "cell_type": "code",
   "execution_count": 1,
   "metadata": {},
   "outputs": [
    {
     "name": "stdout",
     "output_type": "stream",
     "text": [
      "Password or secret: MACHINE_PASSWD\n",
      "Reading file `MACHINE_PASSWD.txt'\n",
      "Password or secret: AGAVE_PASSWD\n",
      "Reading file `AGAVE_PASSWD.txt'\n",
      "Password or secret: PBTOK\n",
      "Reading file `PBTOK.txt'\n"
     ]
    },
    {
     "data": {
      "application/vnd.jupyter.widget-view+json": {
       "model_id": "b19716859255408b99729dc97fca1a6a",
       "version_major": 2,
       "version_minor": 0
      },
      "text/plain": [
       "Box(children=(Box(children=(Label(value='Agave username', layout=Layout(width='120px')), Text(value='')), layo…"
      ]
     },
     "metadata": {},
     "output_type": "display_data"
    },
    {
     "name": "stdout",
     "output_type": "stream",
     "text": [
      "AGAVE_USERNAME=stevenrbrandt2\n",
      "MACHINE_USERNAME=sbrandt\n",
      "BASE_APP_NAME=swan\n",
      "PORT=22\n",
      "ALLOCATION=hpc_tutorials\n",
      "WORK_DIR=/work/sbrandt\n",
      "HOME_DIR=/home/sbrandt\n",
      "SCRATCH_DIR=/work/sbrandt\n",
      "DEPLOYMENT_PATH=agave-deployment\n",
      "AGAVE_JSON_PARSER=jq\n",
      "PATH=/home/jupuser/agave-model/cli/bin:/usr/local/bin:/usr/local/sbin:/usr/local/bin:/usr/sbin:/usr/bin:/sbin:/bin\n",
      "Password or secret: MACHINE_PASSWD\n",
      "Reading file `MACHINE_PASSWD.txt'\n",
      "Password or secret: AGAVE_PASSWD\n",
      "Reading file `AGAVE_PASSWD.txt'\n",
      "Password or secret: PBTOK\n",
      "Reading file `PBTOK.txt'\n",
      "APP_NAME=swan-shelob-stevenrbrandt2\n",
      "cmd: tenants-init -t agave.prod\n",
      "You are now configured to interact with the APIs at https://public.agaveapi.co/\n",
      "cmd: clients-delete -u stevenrbrandt2 -p BravadoGiving1PetulantCurtain swan-shelob-stevenrbrandt2\n",
      "cmd: clients-create -p BravadoGiving1PetulantCurtain -S -N swan-shelob-stevenrbrandt2 -u stevenrbrandt2\n",
      "cmd: auth-tokens-create -u stevenrbrandt2 -p BravadoGiving1PetulantCurtain\n",
      "cmd: auth-tokens-refresh\n",
      "Token for agave.prod:stevenrbrandt2 successfully refreshed and cached for 14400 seconds\n",
      "e158ed43f9c82961812a14055533cd4\n",
      "STORAGE_MACHINE=shelob-storage-stevenrbrandt23\n",
      "Writing file `shelob-storage-stevenrbrandt23.txt'\n",
      "cmd: systems-addupdate -F shelob-storage-stevenrbrandt23.txt\n",
      "Successfully added system shelob-storage-stevenrbrandt23\n",
      "MAX_TIME=72:00:00\n",
      "CPUINFO=Architecture:          x86_64\n",
      "CPU op-mode(s):        32-bit, 64-bit\n",
      "Byte Order:            Little Endian\n",
      "CPU(s):                16\n",
      "On-line CPU(s) list:   0-15\n",
      "Thread(s) per core:    1\n",
      "Core(s) per socket:    8\n",
      "Socket(s):             2\n",
      "NUMA node(s):          2\n",
      "Vendor ID:             GenuineIntel\n",
      "CPU family:            6\n",
      "Model:                 45\n",
      "Model name:            Intel(R) Xeon(R) CPU E5-2670 0 @ 2.60GHz\n",
      "Stepping:              7\n",
      "CPU MHz:               1200.000\n",
      "BogoMIPS:              5199.34\n",
      "Virtualization:        VT-x\n",
      "L1d cache:             32K\n",
      "L1i cache:             32K\n",
      "L2 cache:              256K\n",
      "L3 cache:              20480K\n",
      "NUMA node0 CPU(s):     0-7\n",
      "NUMA node1 CPU(s):     8-15\n",
      "QUEUE=checkpt\n",
      "NODES=42\n",
      "PROCS=16\n",
      "EXEC_MACHINE=shelob-exec-stevenrbrandt2\n",
      "Writing file `shelob-exec-stevenrbrandt2.txt'\n",
      "cmd: systems-addupdate -F shelob-exec-stevenrbrandt2.txt\n",
      "Successfully added system shelob-exec-stevenrbrandt2\n",
      "Writing file `swan-wrapper.txt'\n",
      "cmd: files-mkdir -S shelob-storage-stevenrbrandt23 -N agave-deployment\n",
      "Successfully created folder agave-deployment\n",
      "cmd: files-upload -F swan-wrapper.txt -S shelob-storage-stevenrbrandt23 agave-deployment/\n",
      "######################################################################## 100.0%\n",
      "Writing file `test.txt'\n",
      "cmd: files-mkdir -S shelob-storage-stevenrbrandt23 -N agave-deployment\n"
     ]
    }
   ],
   "source": [
    "import configuration"
   ]
  },
  {
   "cell_type": "code",
   "execution_count": null,
   "metadata": {},
   "outputs": [],
   "source": []
  }
 ],
 "metadata": {
  "kernelspec": {
   "display_name": "Python 3",
   "language": "python",
   "name": "python3"
  },
  "language_info": {
   "codemirror_mode": {
    "name": "ipython",
    "version": 3
   },
   "file_extension": ".py",
   "mimetype": "text/x-python",
   "name": "python",
   "nbconvert_exporter": "python",
   "pygments_lexer": "ipython3",
   "version": "3.5.2"
  }
 },
 "nbformat": 4,
 "nbformat_minor": 2
}
