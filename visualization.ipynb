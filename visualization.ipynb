{
 "cells": [
  {
   "cell_type": "markdown",
   "metadata": {},
   "source": [
    "# Funwave-tvd "
   ]
  },
  {
   "cell_type": "markdown",
   "metadata": {},
   "source": [
    "## Time Series 1D"
   ]
  },
  {
   "cell_type": "code",
   "execution_count": 1,
   "metadata": {},
   "outputs": [
    {
     "data": {
      "application/vnd.jupyter.widget-view+json": {
       "model_id": "dd63284b01314b5b814058c67af349da",
       "version_major": 2,
       "version_minor": 0
      },
      "text/plain": [
       "Box(children=(Label(value='Choose location (MAX[200][600]):'), Text(value=''), Text(value=''), Button(descript…"
      ]
     },
     "metadata": {},
     "output_type": "display_data"
    },
    {
     "data": {
      "application/vnd.jupyter.widget-view+json": {
       "model_id": "5dc1d774b5504061b4a6176b419ba248",
       "version_major": 2,
       "version_minor": 0
      },
      "text/plain": [
       "Output()"
      ]
     },
     "metadata": {},
     "output_type": "display_data"
    }
   ],
   "source": [
    "from ipywidgets import Box, Label, Text, Layout, Button, Output\n",
    "from IPython.display import display, clear_output\n",
    "oneDOutput = Output()\n",
    "xTxt = Text()\n",
    "yTxt = Text()\n",
    "oneDBtn = Button(description='Show plot', icon='check')\n",
    "oneDBox = Box([Label(value = 'Choose location (MAX[200][600]):'), xTxt, yTxt, oneDBtn], layout = Layout(width = '100%', justify_content = 'space-between') )\n",
    "\n",
    "def oneDBtn_clicked(a):\n",
    "    oneDOutput.clear_output()\n",
    "    with oneDOutput:\n",
    "        OneD(int(xTxt.value),int(yTxt.value))\n",
    "        \n",
    "oneDBtn.on_click(oneDBtn_clicked)\n",
    "\n",
    "display(oneDBox)\n",
    "display(oneDOutput)\n",
    "\n",
    "opdir = \"output/output/\"\n",
    "def OneD(a,b):\n",
    "    plt.clf()\n",
    "    plt.cla()\n",
    "    plt.close()\n",
    "    \n",
    "    fig, ax = plt.subplots()\n",
    "    \n",
    "    X = []\n",
    "    Y = []\n",
    "    \n",
    "    for frame in range(151):\n",
    "        y = np.loadtxt(opdir+'eta_%05d' % (frame+1))\n",
    "        Y.append(y[a][b])\n",
    "        \n",
    "    for i in range(151):\n",
    "        time = '%.2f' % ((i)*0.2)\n",
    "        X.append(time)\n",
    "\n",
    "    unit ='(m)'\n",
    "    ax.plot(X,Y)\n",
    "    ax.set_title(\"At location (\"+str(a)+\")(\"+str(b)+\")\")\n",
    "    ax.set_ylabel(\"eta \"+unit)\n",
    "    ax.set_xlabel(\"Time (s)\")\n",
    "\n",
    "    \n",
    "    plt.show()\n",
    "    "
   ]
  },
  {
   "cell_type": "markdown",
   "metadata": {},
   "source": [
    "## Surface Elevation snapshot 2D"
   ]
  },
  {
   "cell_type": "code",
   "execution_count": 2,
   "metadata": {},
   "outputs": [
    {
     "data": {
      "application/vnd.jupyter.widget-view+json": {
       "model_id": "0f5df0d04ce54a998e2caec0342f358d",
       "version_major": 2,
       "version_minor": 0
      },
      "text/plain": [
       "Box(children=(Label(value='Choose time from 0.2 to 30 (s): '), Text(value=''), Button(description='Show plot',…"
      ]
     },
     "metadata": {},
     "output_type": "display_data"
    },
    {
     "data": {
      "application/vnd.jupyter.widget-view+json": {
       "model_id": "a652a3f07d954441bd8728856f09d537",
       "version_major": 2,
       "version_minor": 0
      },
      "text/plain": [
       "Output()"
      ]
     },
     "metadata": {},
     "output_type": "display_data"
    }
   ],
   "source": [
    "from ipywidgets import Box, Label, Text, Layout, Button, Output\n",
    "from fwPlots import *\n",
    "from IPython.display import display, clear_output\n",
    "sesOutput = Output()\n",
    "fileTxt = Text()\n",
    "sesBtn = Button(description='Show plot', icon='check')\n",
    "sesBox = Box([Label(value = 'Choose time from 0.2 to 30 (s): '), fileTxt, sesBtn],layout = Layout(width = '65%', justify_content = 'space-between'))\n",
    "\n",
    "\n",
    "def sesBtn_clicked(a):\n",
    "    sesOutput.clear_output()\n",
    "    with sesOutput:\n",
    "        twoDsnapPlot(int(float(fileTxt.value)/0.2))\n",
    "    \n",
    "sesBtn.on_click(sesBtn_clicked)\n",
    "\n",
    "display(sesBox)\n",
    "display(sesOutput)\n",
    "\n"
   ]
  },
  {
   "cell_type": "markdown",
   "metadata": {},
   "source": [
    "## Surface Elevation animation 2D"
   ]
  },
  {
   "cell_type": "code",
   "execution_count": 3,
   "metadata": {},
   "outputs": [
    {
     "data": {
      "application/vnd.jupyter.widget-view+json": {
       "model_id": "3bbd368e116e4f3a9fb9f74330b6639b",
       "version_major": 2,
       "version_minor": 0
      },
      "text/plain": [
       "Box(children=(Label(value='Choose time period:'), FloatRangeSlider(value=(5.0, 7.0), layout=Layout(width='60%'…"
      ]
     },
     "metadata": {},
     "output_type": "display_data"
    },
    {
     "data": {
      "application/vnd.jupyter.widget-view+json": {
       "model_id": "87f2089efa414b7c944aea4f56f2e3cf",
       "version_major": 2,
       "version_minor": 0
      },
      "text/plain": [
       "Output()"
      ]
     },
     "metadata": {},
     "output_type": "display_data"
    }
   ],
   "source": [
    "from ipywidgets import Box, Label, Text, Layout, Button, Output,FloatRangeSlider\n",
    "from fwPlots import *\n",
    "from IPython.display import display, clear_output\n",
    "seaOut = Output()\n",
    "\n",
    "seaFrs = FloatRangeSlider(value=[5,7], min=0.0, max=30, step=0.2,\n",
    "                                 readout=True,readout_format='.2f', layout = Layout(width =\"60%\"))\n",
    "seaBtn = Button(description='Show plot', icon='check')\n",
    "\n",
    "seaBox = Box([Label(value = 'Choose time period:'),seaFrs, seaBtn], layout = Layout(width = '80%', justify_content = 'space-between'))\n",
    "\n",
    "def seaBtn_clicked(a):\n",
    "    anim = twoDsnapAnim(seaFrs.value[0],seaFrs.value[1], 0.2)\n",
    "    seaOut.clear_output()\n",
    "    with seaOut:\n",
    "        display(HTML(anim.to_html5_video()))\n",
    "seaBtn.on_click(seaBtn_clicked)\n",
    "\n",
    "display(seaBox)\n",
    "display(seaOut)\n",
    "\n"
   ]
  },
  {
   "cell_type": "markdown",
   "metadata": {},
   "source": [
    "## Cross-shore Profile animation 2D"
   ]
  },
  {
   "cell_type": "code",
   "execution_count": 4,
   "metadata": {},
   "outputs": [
    {
     "data": {
      "application/vnd.jupyter.widget-view+json": {
       "model_id": "5ff98606931146379ac0bbd8762d86ef",
       "version_major": 2,
       "version_minor": 0
      },
      "text/plain": [
       "VBox(children=(Box(children=(Label(value='Choose depth from 1 to 200:'), Text(value='')), layout=Layout(justif…"
      ]
     },
     "metadata": {},
     "output_type": "display_data"
    },
    {
     "data": {
      "application/vnd.jupyter.widget-view+json": {
       "model_id": "7ad8ceada3a44d4fb375bc467c81fb46",
       "version_major": 2,
       "version_minor": 0
      },
      "text/plain": [
       "Output()"
      ]
     },
     "metadata": {},
     "output_type": "display_data"
    }
   ],
   "source": [
    "from ipywidgets import Box, Label, Text, Layout, Button, Output ,FloatRangeSlider, VBox\n",
    "from fwPlots import *\n",
    "from IPython.display import display, clear_output\n",
    "cpaOut = Output()\n",
    "\n",
    "depthTxt = Text()\n",
    "\n",
    "depthBox = Box([Label(value='Choose depth from 1 to 200:'), depthTxt],layout = Layout(width = '50%', justify_content = 'space-between'))\n",
    "\n",
    "cpaFrs = FloatRangeSlider(value=[5,7], min=0.0, max=30, step=0.2,\n",
    "                                 readout=True,readout_format='.2f', layout = Layout(width =\"60%\"))\n",
    "cpaBtn = Button(description='Show plot', icon='check')\n",
    "\n",
    "sldBox = Box([Label(value = 'Choose time period:'),cpaFrs, cpaBtn], layout = Layout(width = '80%', justify_content = 'space-between'))\n",
    "\n",
    "cpaBox = VBox([depthBox, sldBox])\n",
    "\n",
    "def cpaBtn_clicked(a):\n",
    "    anim = depProfileWithEta(depthTxt.value, cpaFrs.value[0], cpaFrs.value[1], 30.0, 0.2, 600)\n",
    "    cpaOut.clear_output()\n",
    "    with cpaOut:\n",
    "        display(HTML(anim.to_html5_video()))\n",
    "cpaBtn.on_click(cpaBtn_clicked)\n",
    "\n",
    "\n",
    "display(cpaBox)\n",
    "display(cpaOut)"
   ]
  },
  {
   "cell_type": "code",
   "execution_count": null,
   "metadata": {},
   "outputs": [],
   "source": []
  },
  {
   "cell_type": "code",
   "execution_count": null,
   "metadata": {},
   "outputs": [],
   "source": []
  }
 ],
 "metadata": {
  "kernelspec": {
   "display_name": "Python 3",
   "language": "python",
   "name": "python3"
  },
  "language_info": {
   "codemirror_mode": {
    "name": "ipython",
    "version": 3
   },
   "file_extension": ".py",
   "mimetype": "text/x-python",
   "name": "python",
   "nbconvert_exporter": "python",
   "pygments_lexer": "ipython3",
   "version": "3.6.5"
  }
 },
 "nbformat": 4,
 "nbformat_minor": 2
}
