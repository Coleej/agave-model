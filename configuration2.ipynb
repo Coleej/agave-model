{
 "cells": [
  {
   "cell_type": "code",
   "execution_count": 1,
   "metadata": {},
   "outputs": [
    {
     "data": {
      "application/vnd.jupyter.widget-view+json": {
       "model_id": "4cb22ce1a7854707bd96dc4186e5ccf7",
       "version_major": 2,
       "version_minor": 0
      },
      "text/plain": [
       "Box(children=(Box(children=(Label(value='Agave username', layout=Layout(width='140px')), Text(value='')), layo…"
      ]
     },
     "metadata": {},
     "output_type": "display_data"
    },
    {
     "name": "stdout",
     "output_type": "stream",
     "text": [
      "AGAVE_USERNAME=syuan\n",
      "APP_NAME=testing-shelob-stevenrbrandt2-2.0\n",
      "AGAVE_JSON_PARSER=jq\n",
      "PATH=/home/jupuser/agave-model/cli/bin:/home/jupuser/swan/cli/bin:/home/jupuser/agave-model/cli/bin:/home/jupuser/swan/cli/bin:/home/jupuser/swan/cli/bin:/home/jupuser/agave-model/cli/bin:/home/jupuser/swan/cli/bin:/home/jupuser/agave-model/cli/bin:/home/jupuser/swan/cli/bin:/home/jupuser/agave-model/cli/bin:/home/jupuser/swan/cli/bin:/home/jupuser/agave-model/cli/bin:/home/jupuser/swan/cli/bin:/home/jupuser/agave-model/cli/bin:/home/jupuser/swan/cli/bin:/usr/local/bin:/usr/local/sbin:/usr/local/bin:/usr/sbin:/usr/bin:/sbin:/bin\n",
      "STORAGE_MACHINE=shelob-storage-stevenrbrandt23\n",
      "DEPLOYMENT_PATH=agave-deployment\n",
      "EXEC_MACHINE=shelob-exec-stevenrbrandt2\n",
      "QUEUE=checkpt\n",
      "Password or secret: AGAVE_PASSWD\n",
      "Reading file `AGAVE_PASSWD.txt'\n",
      "Password or secret: PBTOK\n",
      "Reading file `PBTOK.txt'\n",
      "cmd: tenants-init -t agave.prod\n",
      "Writing file `input.txt'\n",
      "cmd: files-upload -F input.txt -S shelob-storage-stevenrbrandt23/\n",
      "EMAIL=ms.ysboss@gmail.com\n"
     ]
    }
   ],
   "source": [
    "import configuration2"
   ]
  },
  {
   "cell_type": "code",
   "execution_count": null,
   "metadata": {},
   "outputs": [],
   "source": []
  },
  {
   "cell_type": "code",
   "execution_count": null,
   "metadata": {},
   "outputs": [],
   "source": []
  }
 ],
 "metadata": {
  "kernelspec": {
   "display_name": "Python 3",
   "language": "python",
   "name": "python3"
  },
  "language_info": {
   "codemirror_mode": {
    "name": "ipython",
    "version": 3
   },
   "file_extension": ".py",
   "mimetype": "text/x-python",
   "name": "python",
   "nbconvert_exporter": "python",
   "pygments_lexer": "ipython3",
   "version": "3.6.5"
  }
 },
 "nbformat": 4,
 "nbformat_minor": 2
}
