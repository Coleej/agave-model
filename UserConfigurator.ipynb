{
 "cells": [
  {
   "cell_type": "markdown",
   "metadata": {},
   "source": [
    "# CMR User Configurator\n",
    "\n",
    "To use this system with its default settings, you will need an account from TACC. If you don't already have a TACC login, please go there now and sign up.\n",
    "\n",
    "The simplest way to use the User Configurator for the Coastal Model Repository (CMR), is to execute the cells below, one at a time."
   ]
  },
  {
   "cell_type": "code",
   "execution_count": null,
   "metadata": {},
   "outputs": [],
   "source": [
    "from setvar import *\n",
    "import os, re, sys"
   ]
  },
  {
   "cell_type": "code",
   "execution_count": null,
   "metadata": {},
   "outputs": [],
   "source": [
    "# Some settings needed by the system\n",
    "setvar(\"\"\"\n",
    "AGAVE_JSON_PARSER=jq\n",
    "PATH=/usr/local/cli/bin:/usr/bin:/bin:/usr/sbin:/usr/local/sbin:/sbin\n",
    "\"\"\")"
   ]
  },
  {
   "cell_type": "markdown",
   "metadata": {},
   "source": [
    "## Step 1: Choose your tenant\n",
    "The tenant is the system that manages your login credentials and Agave data. You\n",
    "can choose any of the systems below. By default, this notebook uses tacc.prod."
   ]
  },
  {
   "cell_type": "code",
   "execution_count": null,
   "metadata": {},
   "outputs": [],
   "source": [
    "# In case you don't want to use tacc.prod, here is\n",
    "# a list of possible Agave tenants.\n",
    "os.environ[\"AGAVE_TENANTS_API_BASEURL\"]=\"https://api.tacc.utexas.edu/tenants\"\n",
    "!tenants-list"
   ]
  },
  {
   "cell_type": "markdown",
   "metadata": {},
   "source": [
    "#### Edit this next line to change the tenant."
   ]
  },
  {
   "cell_type": "code",
   "execution_count": null,
   "metadata": {},
   "outputs": [],
   "source": [
    "# Set the tenant.\n",
    "!tenants-init -t tacc.prod"
   ]
  },
  {
   "cell_type": "markdown",
   "metadata": {},
   "source": [
    "## Step 2: Supply your password"
   ]
  },
  {
   "cell_type": "code",
   "execution_count": null,
   "metadata": {},
   "outputs": [],
   "source": [
    "# Run the cell below to load your AGAVE_PASSWD\n",
    "# (which will be your TACC password if you use\n",
    "# the tacc.prod tenant, which is the default).\n",
    "# By default, this will be the password stored\n",
    "# in AGAVE_PASSWD.txt. If that file does not exist\n",
    "# you will be prompted for your password.\n",
    "#\n",
    "# If, for some reason, that password is incorrect,\n",
    "# you can get the system to prompt you again by\n",
    "# uncommenting the next line and removing the file.\n",
    "#os.remove(\"AGAVE_PASSWD.txt\")\n",
    "readpass(\"AGAVE_PASSWD\")"
   ]
  },
  {
   "cell_type": "markdown",
   "metadata": {},
   "source": [
    "## Step 3: Supply your Username and Email"
   ]
  },
  {
   "cell_type": "code",
   "execution_count": null,
   "metadata": {},
   "outputs": [],
   "source": [
    "# Fill in your Agave username to the right of\n",
    "# the eqauls sign. (This will be your TACC username\n",
    "# if you are using the tacc.prod tenant, which is\n",
    "# the default)\n",
    "setvar(\"\"\"\n",
    "AGAVE_USERNAME=ysboss\n",
    "EMAIL=syuan@cct.lsu.edu\n",
    "\"\"\")"
   ]
  },
  {
   "cell_type": "markdown",
   "metadata": {},
   "source": [
    "## Step 4: Supply the name of the Agave Application you will be using.\n",
    "You should obtain this from someone who as set up the CMR using the\n",
    "ResourceConcifguator. By default, jobs will execute on shelob.hpc.lsu.edu\n",
    "and you will need to contact sbrandt@cct.lsu.edu to gain permission to\n",
    "run jobs."
   ]
  },
  {
   "cell_type": "markdown",
   "metadata": {},
   "source": [
    "## Step 5: Supply your PushBullet Token\n",
    "Please go to https://www.pushbullet.com/ to obtain your token."
   ]
  },
  {
   "cell_type": "code",
   "execution_count": null,
   "metadata": {},
   "outputs": [],
   "source": [
    "# Optional:\n",
    "# The value of your PushBullet token goes here.\n",
    "# As with the AGAVE_PASSWD entry above, please\n",
    "# delete it if you wish to use PushBullet to\n",
    "# receive notifications.\n",
    "#\n",
    "#os.remove(\"PBTOK.txt\")\n",
    "readpass(\"PBTOK\")"
   ]
  },
  {
   "cell_type": "markdown",
   "metadata": {},
   "source": [
    "# END DATA ENTRY\n",
    "If you have entered the data above correctly,\n",
    "you should not need to edit anything below\n",
    "this line. You will, however, need to execute\n",
    "the cells below."
   ]
  },
  {
   "cell_type": "code",
   "execution_count": null,
   "metadata": {},
   "outputs": [],
   "source": [
    "# Some commands to initialize your access to the system\n",
    "setvar(\"CLIENT_NAME=user-${AGAVE_USERNAME}\")\n",
    "!clients-delete -u $AGAVE_USERNAME -p $AGAVE_PASSWD $CLIENT_NAME\n",
    "!clients-create -p $AGAVE_PASSWD -S -N $CLIENT_NAME -u $AGAVE_USERNAME\n",
    "!auth-tokens-create -u $AGAVE_USERNAME -p $AGAVE_PASSWD"
   ]
  },
  {
   "cell_type": "code",
   "execution_count": null,
   "metadata": {},
   "outputs": [],
   "source": [
    "# Obtain the list of systems\n",
    "!auth-tokens-refresh\n",
    "import systemdata\n",
    "systemdata.display()"
   ]
  },
  {
   "cell_type": "code",
   "execution_count": null,
   "metadata": {},
   "outputs": [],
   "source": []
  }
 ],
 "metadata": {
  "kernelspec": {
   "display_name": "Python 3",
   "language": "python",
   "name": "python3"
  },
  "language_info": {
   "codemirror_mode": {
    "name": "ipython",
    "version": 3
   },
   "file_extension": ".py",
   "mimetype": "text/x-python",
   "name": "python",
   "nbconvert_exporter": "python",
   "pygments_lexer": "ipython3",
   "version": "3.6.7"
  }
 },
 "nbformat": 4,
 "nbformat_minor": 2
}
