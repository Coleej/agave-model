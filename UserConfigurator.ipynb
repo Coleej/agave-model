{
 "cells": [
  {
   "cell_type": "markdown",
   "metadata": {},
   "source": [
    "# CMR User Configurator\n",
    "\n",
    "To use this system with its default settings, you will need an account from TACC. If you don't already have a TACC login, please go there now and sign up.\n",
    "\n",
    "The simplest way to use the User Configurator for the Coastal Model Repository (CMR), is to execute the cells below, one at a time."
   ]
  },
  {
   "cell_type": "code",
   "execution_count": 1,
   "metadata": {},
   "outputs": [],
   "source": [
    "from setvar import *\n",
    "import os, re, sys"
   ]
  },
  {
   "cell_type": "code",
   "execution_count": 2,
   "metadata": {},
   "outputs": [
    {
     "name": "stdout",
     "output_type": "stream",
     "text": [
      "AGAVE_JSON_PARSER=jq\n",
      "PATH=/usr/local/cli/bin:/usr/bin:/bin:/usr/sbin:/usr/local/sbin:/sbin\n"
     ]
    }
   ],
   "source": [
    "# Some settings needed by the system\n",
    "setvar(\"\"\"\n",
    "AGAVE_JSON_PARSER=jq\n",
    "PATH=/usr/local/cli/bin:/usr/bin:/bin:/usr/sbin:/usr/local/sbin:/sbin\n",
    "\"\"\")"
   ]
  },
  {
   "cell_type": "markdown",
   "metadata": {},
   "source": [
    "## Step 1: Choose your tenant\n",
    "The tenant is the system that manages your login credentials and Agave data. You\n",
    "can choose any of the systems below. By default, this notebook uses tacc.prod."
   ]
  },
  {
   "cell_type": "code",
   "execution_count": 3,
   "metadata": {},
   "outputs": [
    {
     "name": "stdout",
     "output_type": "stream",
     "text": [
      "\u001b[1;0m3dem\r\n",
      "agave.prod\r\n",
      "araport.org\r\n",
      "bridge\r\n",
      "designsafe\r\n",
      "iplantc.org\r\n",
      "irec\r\n",
      "portals\r\n",
      "sd2e\r\n",
      "sgci\r\n",
      "tacc.prod\r\n",
      "vdjserver.org\u001b[0m\r\n"
     ]
    }
   ],
   "source": [
    "# In case you don't want to use tacc.prod, here is\n",
    "# a list of possible Agave tenants.\n",
    "os.environ[\"AGAVE_TENANTS_API_BASEURL\"]=\"https://api.tacc.utexas.edu/tenants\"\n",
    "!tenants-list"
   ]
  },
  {
   "cell_type": "markdown",
   "metadata": {},
   "source": [
    "#### Edit this next line to change the tenant."
   ]
  },
  {
   "cell_type": "code",
   "execution_count": 4,
   "metadata": {},
   "outputs": [
    {
     "name": "stdout",
     "output_type": "stream",
     "text": [
      "\u001b[1;0mYou are now configured to interact with the APIs at https://api.tacc.utexas.edu/\u001b[0m\r\n"
     ]
    }
   ],
   "source": [
    "# Set the tenant.\n",
    "!tenants-init -t tacc.prod"
   ]
  },
  {
   "cell_type": "markdown",
   "metadata": {},
   "source": [
    "## Step 2: Supply your password"
   ]
  },
  {
   "cell_type": "code",
   "execution_count": 5,
   "metadata": {},
   "outputs": [
    {
     "name": "stdout",
     "output_type": "stream",
     "text": [
      "Password or secret: AGAVE_PASSWD\n",
      "Reading file `AGAVE_PASSWD.txt'\n"
     ]
    }
   ],
   "source": [
    "# Run the cell below to load your AGAVE_PASSWD\n",
    "# (which will be your TACC password if you use\n",
    "# the tacc.prod tenant, which is the default).\n",
    "# By default, this will be the password stored\n",
    "# in AGAVE_PASSWD.txt. If that file does not exist\n",
    "# you will be prompted for your password.\n",
    "#\n",
    "# If, for some reason, that password is incorrect,\n",
    "# you can get the system to prompt you again by\n",
    "# uncommenting the next line and removing the file.\n",
    "#os.remove(\"AGAVE_PASSWD.txt\")\n",
    "readpass(\"AGAVE_PASSWD\")"
   ]
  },
  {
   "cell_type": "markdown",
   "metadata": {},
   "source": [
    "## Step 3: Supply your Username and Email"
   ]
  },
  {
   "cell_type": "code",
   "execution_count": 7,
   "metadata": {},
   "outputs": [
    {
     "name": "stdout",
     "output_type": "stream",
     "text": [
      "AGAVE_USERNAME=tg457049\n",
      "EMAIL=sbrandt@cct.lsu.edu\n"
     ]
    }
   ],
   "source": [
    "# Fill in your Agave username to the right of\n",
    "# the eqauls sign. (This will be your TACC username\n",
    "# if you are using the tacc.prod tenant, which is\n",
    "# the default)\n",
    "setvar(\"\"\"\n",
    "AGAVE_USERNAME=tg457049\n",
    "EMAIL=sbrandt@cct.lsu.edu\n",
    "\"\"\")"
   ]
  },
  {
   "cell_type": "markdown",
   "metadata": {},
   "source": [
    "## Step 4: Supply the name of the Agave Application you will be using.\n",
    "You should obtain this from someone who as set up the CMR using the\n",
    "ResourceConcifguator. By default, jobs will execute on shelob.hpc.lsu.edu\n",
    "and you will need to contact sbrandt@cct.lsu.edu to gain permission to\n",
    "run jobs."
   ]
  },
  {
   "cell_type": "markdown",
   "metadata": {},
   "source": [
    "## Step 5: Supply your PushBullet Token\n",
    "Please go to https://www.pushbullet.com/ to obtain your token."
   ]
  },
  {
   "cell_type": "code",
   "execution_count": 8,
   "metadata": {},
   "outputs": [
    {
     "name": "stdout",
     "output_type": "stream",
     "text": [
      "Password or secret: PBTOK\n",
      "········\n",
      "Writing file `PBTOK.txt'\n"
     ]
    }
   ],
   "source": [
    "# Optional:\n",
    "# The value of your PushBullet token goes here.\n",
    "# As with the AGAVE_PASSWD entry above, please\n",
    "# delete it if you wish to use PushBullet to\n",
    "# receive notifications.\n",
    "#\n",
    "#os.remove(\"PBTOK.txt\")\n",
    "readpass(\"PBTOK\")"
   ]
  },
  {
   "cell_type": "markdown",
   "metadata": {},
   "source": [
    "# END DATA ENTRY\n",
    "If you have entered the data above correctly,\n",
    "you should not need to edit anything below\n",
    "this line. You will, however, need to execute\n",
    "the cells below."
   ]
  },
  {
   "cell_type": "code",
   "execution_count": 9,
   "metadata": {},
   "outputs": [
    {
     "name": "stdout",
     "output_type": "stream",
     "text": [
      "CLIENT_NAME=user-tg457049\n",
      "\u001b[1;0mSuccessfully deleted client user-tg457049\u001b[0m\n",
      "\u001b[1;0m\u001b[1;0mSuccessfully created client user-tg457049\n",
      "key: I57bIcRKbR3rWGBaOmFJGHBI894a \n",
      "secret: 1zUcArMhtbOHdhy4rXJmTfaMbuoa\u001b[0m\u001b[0m\n",
      "\u001b[1;0mToken for tacc.prod:tg457049 successfully refreshed and cached for 14400 seconds\n",
      "2728a29799e05268294bef3b8fcd7f7f\u001b[0m\n"
     ]
    }
   ],
   "source": [
    "# Some commands to initialize your access to the system\n",
    "setvar(\"CLIENT_NAME=user-${AGAVE_USERNAME}\")\n",
    "!clients-delete -u $AGAVE_USERNAME -p $AGAVE_PASSWD $CLIENT_NAME\n",
    "!clients-create -p $AGAVE_PASSWD -S -N $CLIENT_NAME -u $AGAVE_USERNAME\n",
    "!auth-tokens-create -u $AGAVE_USERNAME -p $AGAVE_PASSWD"
   ]
  },
  {
   "cell_type": "code",
   "execution_count": 11,
   "metadata": {},
   "outputs": [
    {
     "name": "stdout",
     "output_type": "stream",
     "text": [
      "\u001b[1;0mToken for tacc.prod:tg457049 successfully refreshed and cached for 14400 seconds\n",
      "48bd683d14da8d421fff699afeb303d\u001b[0m\n",
      "cmd: apps-list ...\n",
      "cmd: apps-list ...\n",
      "cmd: apps-list ...\n",
      "cmd: apps-list ...\n",
      "cmd: apps-list ...\n",
      "Applications you have access to:\n",
      "  - crcollaboratory-shelob-build-ysboss-2.0\n",
      "  - crcollaboratory-melete05-tg457049-2.0\n",
      "  - crcollaboratory-shelob-tg457049-2.0\n",
      "  - crcollaboratory-rostam-tg457049-2.0\n",
      "  - crcollaboratory-spine-tg457049-2.0\n",
      "\n",
      "Applications you don't have access to:\n",
      "  None\n",
      "\n",
      "Please contact sbrandt@cct.lsu.edu for questions\n"
     ]
    }
   ],
   "source": [
    "# Obtain the list of systems\n",
    "!auth-tokens-refresh\n",
    "import systemdata\n",
    "systemdata.display()"
   ]
  },
  {
   "cell_type": "code",
   "execution_count": null,
   "metadata": {},
   "outputs": [],
   "source": []
  }
 ],
 "metadata": {
  "kernelspec": {
   "display_name": "Python 3",
   "language": "python",
   "name": "python3"
  },
  "language_info": {
   "codemirror_mode": {
    "name": "ipython",
    "version": 3
   },
   "file_extension": ".py",
   "mimetype": "text/x-python",
   "name": "python",
   "nbconvert_exporter": "python",
   "pygments_lexer": "ipython3",
   "version": "3.6.7"
  }
 },
 "nbformat": 4,
 "nbformat_minor": 2
}
